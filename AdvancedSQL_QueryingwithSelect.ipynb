{
 "cells": [
  {
   "cell_type": "markdown",
   "id": "405e7320-9c7b-4541-b281-25d79aa3a34a",
   "metadata": {},
   "source": [
    "# E-commerce PostgreSQL Project\n",
    "#### In this project, I'll be exploring how to design, implement, and maintain efficient and scalable database applications."
   ]
  },
  {
   "cell_type": "markdown",
   "id": "f6b981be-18c6-4ca3-9f1d-5b55a8b8ce3b",
   "metadata": {},
   "source": [
    "### In this project, I'll be tackling: \n",
    "- Writing efficient SQL queries: Writing optimized queries to retrieve data from databases in the most efficient way possible. I'll be doingindexing, query optimization, and performance tuning.\n",
    "\n",
    "- Structuring large datasets using partitioning: I'll be exploring partitioning techniques like range, list, and hash partitioning to break up large datasets into smaller, more manageable pieces. This will help me manage big datasets effectively and improve the performance and scalability of my database applications.\n",
    "\n",
    "- Handling database errors: I'll be learning how to handle a wide variety of database errors, including techniques like logging, retrying, and rollback strategies. This will ensure that my database applications are reliable and robust, even in the face of errors and failures.\n",
    "\n",
    "- Using design patterns for resiliency: I'll be incorporating design patterns that improve the resiliency of my database applications, such as circuit breaker, retry, and fallback patterns. These patterns will help me handle failures and keep my applications up and running smoothly, even in challenging situations.\n",
    "\n",
    "### Topics covered will include:\n",
    "\n",
    "- Writing efficient SQL queries\n",
    "- Dataset partitioning\n",
    "- Handling database errors\n",
    "- Using design patterns for resiliency\n",
    "\n",
    "Join me to learn best practices for developing highly available and scalable database applications. Let's dive in!"
   ]
  },
  {
   "cell_type": "code",
   "execution_count": 43,
   "id": "f67c49b7-888c-4cae-b356-e5321f770800",
   "metadata": {},
   "outputs": [],
   "source": [
    "#We'll start by importing necessary modules \n",
    "#Backend was already made with setting up tables within pgadmin 4 & Postgresql\n",
    "import psycopg2\n",
    "import os"
   ]
  },
  {
   "cell_type": "code",
   "execution_count": 45,
   "id": "1e3cf7c4-c75f-426d-a830-d56b12760f2e",
   "metadata": {},
   "outputs": [],
   "source": [
    "USER = os.environ['USERNAME']\n",
    "PASSWORD = os.environ['PASSWORD']"
   ]
  },
  {
   "cell_type": "code",
   "execution_count": 46,
   "id": "9f1f3b1b-474c-4fab-90f8-67e41e5a3d85",
   "metadata": {},
   "outputs": [
    {
     "data": {
      "text/plain": [
       "'postgres'"
      ]
     },
     "execution_count": 46,
     "metadata": {},
     "output_type": "execute_result"
    }
   ],
   "source": [
    "USER"
   ]
  },
  {
   "cell_type": "code",
   "execution_count": 47,
   "id": "e2d9f2d8-348c-45d4-8b1f-c57a93bf9e14",
   "metadata": {},
   "outputs": [
    {
     "data": {
      "text/plain": [
       "6"
      ]
     },
     "execution_count": 47,
     "metadata": {},
     "output_type": "execute_result"
    }
   ],
   "source": [
    "len(PASSWORD)"
   ]
  },
  {
   "cell_type": "code",
   "execution_count": 48,
   "id": "000d330d-2b91-4595-99d7-331761d1c7a8",
   "metadata": {},
   "outputs": [],
   "source": [
    "#We'll connect to the database\n",
    "conn = psycopg2.connect(database='ecomm',\n",
    "                        user=USER,\n",
    "                        password=PASSWORD,\n",
    "                        port=5432)"
   ]
  },
  {
   "cell_type": "code",
   "execution_count": 49,
   "id": "6392a0da-01de-4cf1-ae01-f08c0b59e189",
   "metadata": {},
   "outputs": [
    {
     "data": {
      "text/plain": [
       "<connection object at 0x000001D3AC283560; dsn: 'user=postgres password=xxx dbname=ecomm port=5432', closed: 0>"
      ]
     },
     "execution_count": 49,
     "metadata": {},
     "output_type": "execute_result"
    }
   ],
   "source": [
    "conn"
   ]
  },
  {
   "cell_type": "code",
   "execution_count": 50,
   "id": "58586856-6061-4475-8a0a-37130d938233",
   "metadata": {},
   "outputs": [],
   "source": [
    "#We'll create a cursor to be able to connect to the column/table we want to see\n",
    "#and we'll filter from there\n",
    "def getProductsByType(db_conn, prod_type):\n",
    "    cursor = db_conn.cursor()\n",
    "    sql_string = \"SELECT * FROM products WHERE product_type = %s\"\n",
    "    cursor.execute(sql_string, [prod_type])\n",
    "    return(cursor_fetchall())\n"
   ]
  },
  {
   "cell_type": "code",
   "execution_count": 51,
   "id": "ee2adf1a-6ad1-431f-b3ef-fef98bc7d395",
   "metadata": {},
   "outputs": [],
   "source": [
    "def getProductsByType(db_conn, prod_type):\n",
    "    cursor = db_conn.cursor()\n",
    "    sql_string = \"SELECT * FROM products WHERE product_type = %s\"\n",
    "    cursor.execute(sql_string, [prod_type])\n",
    "    return cursor.fetchall()\n"
   ]
  },
  {
   "cell_type": "code",
   "execution_count": 52,
   "id": "0d4ab01c-506c-4e87-b705-90963d593f67",
   "metadata": {},
   "outputs": [],
   "source": [
    "#We'll create a variable to see all the products under the \"Oven\" category\n",
    "all_ovens = getProductsByType(conn, 'oven')"
   ]
  },
  {
   "cell_type": "code",
   "execution_count": 53,
   "id": "7c01e9d9-62e6-41e5-b638-2781328e3d19",
   "metadata": {},
   "outputs": [
    {
     "data": {
      "text/plain": [
       "[(1, 'Reflector oven', 'oven'),\n",
       " (2, 'Convection microwave', 'oven'),\n",
       " (15, 'Masonry oven', 'oven'),\n",
       " (24, 'Microwave oven', 'oven'),\n",
       " (32, 'Russian oven', 'oven'),\n",
       " (33, 'Clome oven', 'oven'),\n",
       " (34, 'Convection oven', 'oven'),\n",
       " (37, 'Beehive oven', 'oven'),\n",
       " (38, 'Toaster and toaster ovens', 'oven'),\n",
       " (41, 'Self-cleaning oven', 'oven'),\n",
       " (42, 'Wood-fired oven', 'oven'),\n",
       " (43, 'Kitchener range', 'oven'),\n",
       " (47, 'Oven', 'oven'),\n",
       " (48, 'Hot box (appliance)', 'oven'),\n",
       " (58, 'Tabun oven', 'oven'),\n",
       " (67, 'Chorkor oven', 'oven'),\n",
       " (72, 'Communal oven', 'oven'),\n",
       " (74, 'Halogen oven', 'oven'),\n",
       " (78, 'Stove', 'oven'),\n",
       " (80, 'Earth oven', 'oven')]"
      ]
     },
     "execution_count": 53,
     "metadata": {},
     "output_type": "execute_result"
    }
   ],
   "source": [
    "#print variable\n",
    "all_ovens"
   ]
  },
  {
   "cell_type": "code",
   "execution_count": 54,
   "id": "b6baf877-54ab-4a8e-b675-ef75613d2cdb",
   "metadata": {},
   "outputs": [
    {
     "data": {
      "text/plain": [
       "20"
      ]
     },
     "execution_count": 54,
     "metadata": {},
     "output_type": "execute_result"
    }
   ],
   "source": [
    "len(all_ovens)"
   ]
  },
  {
   "cell_type": "code",
   "execution_count": 55,
   "id": "481d9631-fe4f-4a10-8722-5800373f4c46",
   "metadata": {},
   "outputs": [
    {
     "name": "stdout",
     "output_type": "stream",
     "text": [
      "[(4, 1, 1, Decimal('296.47')), (23, 1, 4, Decimal('30.99')), (57, 1, 4, Decimal('124.53')), (63, 1, 2, Decimal('131.79'))] \n",
      "\n",
      "fetchall_cnt: 1\n",
      "[(5, 2, 2, Decimal('270.24')), (21, 2, 2, Decimal('196.39'))] \n",
      "\n",
      "fetchall_cnt: 2\n",
      "[(9, 15, 3, Decimal('53.26')), (38, 15, 2, Decimal('299.62')), (41, 15, 2, Decimal('158.61'))] \n",
      "\n",
      "fetchall_cnt: 3\n",
      "[(3, 24, 5, Decimal('131.20')), (32, 24, 5, Decimal('60.54')), (36, 24, 5, Decimal('93.13')), (49, 24, 4, Decimal('228.74')), (81, 24, 2, Decimal('283.90'))] \n",
      "\n",
      "fetchall_cnt: 4\n",
      "[(24, 32, 3, Decimal('70.57'))] \n",
      "\n",
      "fetchall_cnt: 5\n",
      "[(38, 33, 4, Decimal('236.11')), (40, 33, 1, Decimal('227.86')), (61, 33, 2, Decimal('45.44')), (82, 33, 3, Decimal('29.96'))] \n",
      "\n",
      "fetchall_cnt: 6\n",
      "[(12, 34, 3, Decimal('251.16')), (28, 34, 4, Decimal('72.18')), (69, 34, 5, Decimal('73.06')), (71, 34, 2, Decimal('75.19'))] \n",
      "\n",
      "fetchall_cnt: 7\n",
      "[(35, 37, 4, Decimal('211.71')), (49, 37, 1, Decimal('162.63')), (51, 37, 5, Decimal('271.15')), (61, 37, 2, Decimal('256.34'))] \n",
      "\n",
      "fetchall_cnt: 8\n",
      "[(56, 38, 4, Decimal('262.44')), (67, 38, 5, Decimal('237.32')), (71, 38, 5, Decimal('286.17')), (75, 38, 4, Decimal('96.06'))] \n",
      "\n",
      "fetchall_cnt: 9\n",
      "[] \n",
      "\n",
      "fetchall_cnt: 10\n",
      "[(8, 42, 2, Decimal('99.52')), (18, 42, 1, Decimal('281.35'))] \n",
      "\n",
      "fetchall_cnt: 11\n",
      "[(46, 43, 5, Decimal('207.13'))] \n",
      "\n",
      "fetchall_cnt: 12\n",
      "[(16, 47, 1, Decimal('246.68')), (45, 47, 1, Decimal('26.16')), (48, 47, 3, Decimal('262.16'))] \n",
      "\n",
      "fetchall_cnt: 13\n",
      "[(12, 48, 4, Decimal('20.08')), (21, 48, 5, Decimal('52.86')), (41, 48, 3, Decimal('148.91')), (43, 48, 4, Decimal('120.45')), (59, 48, 2, Decimal('164.11')), (85, 48, 5, Decimal('232.08'))] \n",
      "\n",
      "fetchall_cnt: 14\n",
      "[(2, 58, 5, Decimal('102.97')), (25, 58, 4, Decimal('85.03')), (28, 58, 2, Decimal('289.46')), (38, 58, 3, Decimal('255.12')), (40, 58, 2, Decimal('247.79')), (80, 58, 1, Decimal('95.93'))] \n",
      "\n",
      "fetchall_cnt: 15\n",
      "[(46, 67, 3, Decimal('257.33'))] \n",
      "\n",
      "fetchall_cnt: 16\n",
      "[(14, 72, 2, Decimal('118.64')), (77, 72, 3, Decimal('103.48'))] \n",
      "\n",
      "fetchall_cnt: 17\n",
      "[(27, 74, 1, Decimal('202.45')), (50, 74, 5, Decimal('290.62')), (62, 74, 4, Decimal('158.41'))] \n",
      "\n",
      "fetchall_cnt: 18\n",
      "[(23, 78, 3, Decimal('245.55')), (24, 78, 4, Decimal('21.83'))] \n",
      "\n",
      "fetchall_cnt: 19\n",
      "[(2, 80, 1, Decimal('181.54')), (26, 80, 3, Decimal('30.75')), (58, 80, 3, Decimal('185.41')), (68, 80, 5, Decimal('175.18')), (82, 80, 2, Decimal('140.09'))] \n",
      "\n",
      "fetchall_cnt: 20\n"
     ]
    }
   ],
   "source": [
    "#This is what's called an \"N+1\" query\n",
    "#The N+1 query is a very innefficient way of writing this code to get tables from the db\n",
    "#Therefore, I'll be creating a more efficient way of pulling the data. As you can see below, \n",
    "#the data is in chunks, and isn't as readable or useful as it can be.\n",
    "cursor = conn.cursor()\n",
    "fetchall_cnt = 0\n",
    "\n",
    "for oven in all_ovens:\n",
    "    oven_id = oven[0]\n",
    "    sql_string = \"SELECT * FROM product_orders WHERE product_id = %s\"\n",
    "    cursor.execute(sql_string, [oven_id])\n",
    "    oven_order = cursor.fetchall()\n",
    "    fetchall_cnt += 1\n",
    "    print(oven_order, \"\\n\")\n",
    "    print(\"fetchall_cnt:\", fetchall_cnt)"
   ]
  },
  {
   "cell_type": "code",
   "execution_count": 56,
   "id": "c5b0f971-1c13-4049-8985-ea1014015e55",
   "metadata": {
    "tags": []
   },
   "outputs": [],
   "source": [
    "#Optimized code to fetch all data in one block\n",
    "def getProductOrderByType(db_conn, prod_type):\n",
    "    cursor = db_conn.cursor()\n",
    "    sql_string = \"SELECT po.*  \\\n",
    "                    FROM product_orders po \\\n",
    "                    INNER JOIN products p      \\\n",
    "                    ON po.product_id = p.product_id   \\\n",
    "                    WHERE p.product_type = %s\"\n",
    "    cursor.execute(sql_string, [prod_type])\n",
    "    return(cursor.fetchall())\n",
    "    "
   ]
  },
  {
   "cell_type": "code",
   "execution_count": 57,
   "id": "08d49cbc-5e57-4ccc-83d0-344fa6bf8436",
   "metadata": {},
   "outputs": [
    {
     "data": {
      "text/plain": [
       "[(2, 58, 5, Decimal('102.97')),\n",
       " (2, 80, 1, Decimal('181.54')),\n",
       " (3, 24, 5, Decimal('131.20')),\n",
       " (4, 1, 1, Decimal('296.47')),\n",
       " (5, 2, 2, Decimal('270.24')),\n",
       " (8, 42, 2, Decimal('99.52')),\n",
       " (9, 15, 3, Decimal('53.26')),\n",
       " (12, 34, 3, Decimal('251.16')),\n",
       " (12, 48, 4, Decimal('20.08')),\n",
       " (14, 72, 2, Decimal('118.64')),\n",
       " (16, 47, 1, Decimal('246.68')),\n",
       " (18, 42, 1, Decimal('281.35')),\n",
       " (21, 2, 2, Decimal('196.39')),\n",
       " (21, 48, 5, Decimal('52.86')),\n",
       " (23, 1, 4, Decimal('30.99')),\n",
       " (23, 78, 3, Decimal('245.55')),\n",
       " (24, 32, 3, Decimal('70.57')),\n",
       " (24, 78, 4, Decimal('21.83')),\n",
       " (25, 58, 4, Decimal('85.03')),\n",
       " (26, 80, 3, Decimal('30.75')),\n",
       " (27, 74, 1, Decimal('202.45')),\n",
       " (28, 34, 4, Decimal('72.18')),\n",
       " (28, 58, 2, Decimal('289.46')),\n",
       " (32, 24, 5, Decimal('60.54')),\n",
       " (35, 37, 4, Decimal('211.71')),\n",
       " (36, 24, 5, Decimal('93.13')),\n",
       " (38, 15, 2, Decimal('299.62')),\n",
       " (38, 33, 4, Decimal('236.11')),\n",
       " (38, 58, 3, Decimal('255.12')),\n",
       " (40, 33, 1, Decimal('227.86')),\n",
       " (40, 58, 2, Decimal('247.79')),\n",
       " (41, 15, 2, Decimal('158.61')),\n",
       " (41, 48, 3, Decimal('148.91')),\n",
       " (43, 48, 4, Decimal('120.45')),\n",
       " (45, 47, 1, Decimal('26.16')),\n",
       " (46, 43, 5, Decimal('207.13')),\n",
       " (46, 67, 3, Decimal('257.33')),\n",
       " (48, 47, 3, Decimal('262.16')),\n",
       " (49, 24, 4, Decimal('228.74')),\n",
       " (49, 37, 1, Decimal('162.63')),\n",
       " (50, 74, 5, Decimal('290.62')),\n",
       " (51, 37, 5, Decimal('271.15')),\n",
       " (56, 38, 4, Decimal('262.44')),\n",
       " (57, 1, 4, Decimal('124.53')),\n",
       " (58, 80, 3, Decimal('185.41')),\n",
       " (59, 48, 2, Decimal('164.11')),\n",
       " (61, 33, 2, Decimal('45.44')),\n",
       " (61, 37, 2, Decimal('256.34')),\n",
       " (62, 74, 4, Decimal('158.41')),\n",
       " (63, 1, 2, Decimal('131.79')),\n",
       " (67, 38, 5, Decimal('237.32')),\n",
       " (68, 80, 5, Decimal('175.18')),\n",
       " (69, 34, 5, Decimal('73.06')),\n",
       " (71, 34, 2, Decimal('75.19')),\n",
       " (71, 38, 5, Decimal('286.17')),\n",
       " (75, 38, 4, Decimal('96.06')),\n",
       " (77, 72, 3, Decimal('103.48')),\n",
       " (80, 58, 1, Decimal('95.93')),\n",
       " (81, 24, 2, Decimal('283.90')),\n",
       " (82, 33, 3, Decimal('29.96')),\n",
       " (82, 80, 2, Decimal('140.09')),\n",
       " (85, 48, 5, Decimal('232.08'))]"
      ]
     },
     "execution_count": 57,
     "metadata": {},
     "output_type": "execute_result"
    }
   ],
   "source": [
    "#calling new variable that was just created\n",
    "getProductOrderByType(conn, 'oven')"
   ]
  },
  {
   "cell_type": "markdown",
   "id": "89f24124-45c5-4488-92dc-f1806ac41f10",
   "metadata": {},
   "source": [
    "## Testing Database with a Certain Product\n",
    "\n",
    "#### Now I'll write a function that executes a SQL query to retreive all product orders. \n",
    "- I want to specify product type, for this example, we'll search for \"specialty\". \n",
    "- I also want the product to come back with a quantity larger than 4"
   ]
  },
  {
   "cell_type": "code",
   "execution_count": 79,
   "id": "ca136b32-3734-4831-a02a-5af589e13f75",
   "metadata": {},
   "outputs": [],
   "source": [
    "#Below is efficient code, not N+1 styles that would execute inefficient tables\n",
    "#We'll name getProductOrderByType with a \"2\" to differentiate more easily with the less efficient code above\n",
    "def getProductOrderByType2(db_conn, prod_type):\n",
    "    cursor = db_conn.cursor()\n",
    "    sql_string = \"SELECT po.*  \\\n",
    "                    FROM product_orders po \\\n",
    "                    INNER JOIN products p      \\\n",
    "                    ON po.product_id = p.product_id   \\\n",
    "                    WHERE p.product_type = %s    \\\n",
    "                    AND po.quantity > 4\"\n",
    "    cursor.execute(sql_string, [prod_type])\n",
    "    return(cursor.fetchall())"
   ]
  },
  {
   "cell_type": "code",
   "execution_count": 67,
   "id": "0448070a-b4dd-4737-a8d3-fa3fe3e2af94",
   "metadata": {},
   "outputs": [
    {
     "data": {
      "text/plain": [
       "[(18, 45, 5, Decimal('42.58')),\n",
       " (41, 39, 5, Decimal('256.48')),\n",
       " (42, 7, 5, Decimal('201.44')),\n",
       " (56, 18, 5, Decimal('252.06')),\n",
       " (64, 7, 5, Decimal('261.31'))]"
      ]
     },
     "execution_count": 67,
     "metadata": {},
     "output_type": "execute_result"
    }
   ],
   "source": [
    "getProductOrderByType2(conn, 'specialty')"
   ]
  },
  {
   "cell_type": "markdown",
   "id": "c09bc1ea-7059-472c-99a6-3bc52ddcc524",
   "metadata": {},
   "source": [
    "# Parameterize Quantity\n",
    "#### Now I want to make the above code block more useful by making the quantity parameter be any number I may choose in the future, with the %s function "
   ]
  },
  {
   "cell_type": "code",
   "execution_count": 69,
   "id": "5c70e3d7-2b58-4e60-b3a0-0385221e104a",
   "metadata": {},
   "outputs": [],
   "source": [
    "def getProductOrderByType3(db_conn, prod_type):\n",
    "    cursor = db_conn.cursor()\n",
    "    sql_string = \"SELECT po.*  \\\n",
    "                    FROM product_orders po \\\n",
    "                    INNER JOIN products p      \\\n",
    "                    ON po.product_id = p.product_id   \\\n",
    "                    WHERE p.product_type = %s    \\\n",
    "                    AND po.quantity > %s\"\n",
    "    cursor.execute(sql_string, [prod_type,3])\n",
    "    return(cursor.fetchall())"
   ]
  },
  {
   "cell_type": "code",
   "execution_count": 70,
   "id": "f4569e30-2060-4321-8958-03f0bb6eb483",
   "metadata": {},
   "outputs": [
    {
     "data": {
      "text/plain": [
       "[(18, 45, 5, Decimal('42.58')),\n",
       " (23, 39, 4, Decimal('107.69')),\n",
       " (41, 39, 5, Decimal('256.48')),\n",
       " (42, 7, 5, Decimal('201.44')),\n",
       " (55, 45, 4, Decimal('97.79')),\n",
       " (56, 18, 5, Decimal('252.06')),\n",
       " (64, 7, 5, Decimal('261.31')),\n",
       " (79, 59, 4, Decimal('155.79'))]"
      ]
     },
     "execution_count": 70,
     "metadata": {},
     "output_type": "execute_result"
    }
   ],
   "source": [
    "#I'll get the same results, but it's parameterized now\n",
    "getProductOrderByType3(conn, 'specialty')"
   ]
  },
  {
   "cell_type": "code",
   "execution_count": 88,
   "id": "90f668a6-269f-4d6a-bdc1-a759cd5d2260",
   "metadata": {},
   "outputs": [],
   "source": [
    "#I'll try a different quantity in the parameter\n",
    "def getProductOrderByType3(db_conn, prod_type):\n",
    "    cursor = db_conn.cursor()\n",
    "    sql_string = \"SELECT po.*  \\\n",
    "                    FROM product_orders po \\\n",
    "                    INNER JOIN products p      \\\n",
    "                    ON po.product_id = p.product_id   \\\n",
    "                    WHERE p.product_type = %s    \\\n",
    "                    AND po.quantity > %s\"\n",
    "    cursor.execute(sql_string, [prod_type,2])\n",
    "    return(cursor.fetchall())"
   ]
  },
  {
   "cell_type": "code",
   "execution_count": 89,
   "id": "28621970-2da8-40a2-b2ba-e69e36b3360e",
   "metadata": {},
   "outputs": [
    {
     "data": {
      "text/plain": [
       "[(1, 59, 3, Decimal('22.07')),\n",
       " (9, 39, 3, Decimal('140.78')),\n",
       " (18, 45, 5, Decimal('42.58')),\n",
       " (23, 39, 4, Decimal('107.69')),\n",
       " (41, 39, 5, Decimal('256.48')),\n",
       " (42, 7, 5, Decimal('201.44')),\n",
       " (47, 21, 3, Decimal('73.83')),\n",
       " (55, 45, 4, Decimal('97.79')),\n",
       " (56, 18, 5, Decimal('252.06')),\n",
       " (62, 45, 3, Decimal('269.38')),\n",
       " (64, 7, 5, Decimal('261.31')),\n",
       " (78, 27, 3, Decimal('119.16')),\n",
       " (79, 59, 4, Decimal('155.79'))]"
      ]
     },
     "execution_count": 89,
     "metadata": {},
     "output_type": "execute_result"
    }
   ],
   "source": [
    "#And we see differnt results according to the changed quantity\n",
    "getProductOrderByType3(conn, 'specialty')"
   ]
  },
  {
   "cell_type": "code",
   "execution_count": 90,
   "id": "398a9f90-9656-4402-909a-b04f471c24f2",
   "metadata": {},
   "outputs": [],
   "source": [
    "#Trying a similar code with different quantity and *product* to test\n",
    "def getProductOrderByType3(db_conn, prod_type):\n",
    "    cursor = db_conn.cursor()\n",
    "    sql_string = \"SELECT po.*  \\\n",
    "                    FROM product_orders po \\\n",
    "                    INNER JOIN products p      \\\n",
    "                    ON po.product_id = p.product_id   \\\n",
    "                    WHERE p.product_type = %s    \\\n",
    "                    AND po.quantity > %s\"\n",
    "    cursor.execute(sql_string, [prod_type,2])\n",
    "    return(cursor.fetchall())"
   ]
  },
  {
   "cell_type": "code",
   "execution_count": 91,
   "id": "0c5a5bf2-1d94-4374-8167-ec7625973347",
   "metadata": {},
   "outputs": [
    {
     "data": {
      "text/plain": [
       "[(1, 25, 4, Decimal('63.59')),\n",
       " (14, 73, 3, Decimal('29.62')),\n",
       " (25, 82, 5, Decimal('203.47')),\n",
       " (32, 23, 5, Decimal('114.08')),\n",
       " (35, 82, 4, Decimal('208.97')),\n",
       " (38, 51, 4, Decimal('163.11')),\n",
       " (40, 9, 4, Decimal('84.47')),\n",
       " (40, 23, 5, Decimal('258.55')),\n",
       " (43, 9, 5, Decimal('230.13')),\n",
       " (44, 82, 3, Decimal('208.36')),\n",
       " (49, 75, 3, Decimal('102.44')),\n",
       " (54, 75, 4, Decimal('165.38')),\n",
       " (56, 19, 5, Decimal('39.05')),\n",
       " (59, 75, 3, Decimal('247.46')),\n",
       " (74, 4, 5, Decimal('147.32')),\n",
       " (80, 9, 5, Decimal('111.15'))]"
      ]
     },
     "execution_count": 91,
     "metadata": {},
     "output_type": "execute_result"
    }
   ],
   "source": [
    "getProductOrderByType3(conn, 'cooker')"
   ]
  }
 ],
 "metadata": {
  "kernelspec": {
   "display_name": "Python 3 (ipykernel)",
   "language": "python",
   "name": "python3"
  },
  "language_info": {
   "codemirror_mode": {
    "name": "ipython",
    "version": 3
   },
   "file_extension": ".py",
   "mimetype": "text/x-python",
   "name": "python",
   "nbconvert_exporter": "python",
   "pygments_lexer": "ipython3",
   "version": "3.10.10"
  }
 },
 "nbformat": 4,
 "nbformat_minor": 5
}
