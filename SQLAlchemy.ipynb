{
 "cells": [
  {
   "cell_type": "markdown",
   "id": "217086c2-5ae5-45b1-abd3-97e995ccc89f",
   "metadata": {},
   "source": [
    "# SQL Alchemy\n"
   ]
  },
  {
   "cell_type": "markdown",
   "id": "76eaa80d-3986-485a-b497-393864f7015e",
   "metadata": {},
   "source": [
    "SQLAlchemy is a Python SQL toolkit and Object Relational Mapping (ORM) platform that allows developers to map between objects and relational databases. It has two main components - Core for basic database operations and ORM for mapping between objects and relational models. \n",
    "\n",
    "SQLAlchemy provides functions for connecting to databases, declaring mappings, creating sessions, and performing operations like adding, updating, deleting, and querying data. It also supports commits and rollbacks for transaction processing\n",
    "\n",
    "Some major benefits of using SQL Alchemy include: \n",
    "\n",
    "- Buildign on standard database APIs\n",
    "- Mapping from objects to functions to SQL statements\n",
    "- Moving more easily between different relational DBs\n",
    "\n"
   ]
  },
  {
   "cell_type": "code",
   "execution_count": 1,
   "id": "978e9877-5997-4c2b-bd6e-058bf7896ea7",
   "metadata": {},
   "outputs": [],
   "source": [
    "#import drivers\n",
    "import psycopg2\n",
    "import os\n",
    "\n",
    "#make a connection to our backend database\n",
    "from sqlalchemy import create_engine \n",
    "from sqlalchemy import Column, String, Integer\n",
    "from sqlalchemy.ext.declarative import declarative_base\n",
    "from sqlalchemy.orm import declarative_base\n",
    "from sqlalchemy.orm import sessionmaker"
   ]
  },
  {
   "cell_type": "code",
   "execution_count": 2,
   "id": "a6eae580-79ba-4e6d-8d62-32c2c54d989e",
   "metadata": {},
   "outputs": [],
   "source": [
    "os.environ['USERNAME'] = 'postgres'\n",
    "os.environ['PASSWORD'] = 'sh1nu1'"
   ]
  },
  {
   "cell_type": "code",
   "execution_count": 3,
   "id": "ab98fc9c-6dc5-4b35-8e07-e2dbc29999b8",
   "metadata": {},
   "outputs": [],
   "source": [
    "USER = os.environ['USERNAME']\n",
    "PASSWORD = os.environ['PASSWORD']"
   ]
  },
  {
   "cell_type": "code",
   "execution_count": 4,
   "id": "058a4efb-7f92-4257-a01d-a2454b3cc6db",
   "metadata": {},
   "outputs": [],
   "source": [
    "# create a connection string to connect to the db\n",
    "db_conn_string  = 'postgresql+psycopg2://' + USER + ':' + PASSWORD + '@localhost:5432/ecomm'\n",
    "# create database engine\n",
    "engine = create_engine(db_conn_string)"
   ]
  },
  {
   "cell_type": "code",
   "execution_count": 6,
   "id": "ea9b76f2-95de-48d0-9682-74625806d3ea",
   "metadata": {},
   "outputs": [],
   "source": [
    "#create a session as a function in SQLalchemy\n",
    "Session = sessionmaker(engine)\n",
    "session = Session()"
   ]
  },
  {
   "cell_type": "code",
   "execution_count": 7,
   "id": "91edc73d-1949-4b57-821d-d7a61a4df1d0",
   "metadata": {},
   "outputs": [],
   "source": [
    "#Create a base class that SQLalchemy provides\n",
    "base = declarative_base()"
   ]
  },
  {
   "cell_type": "code",
   "execution_count": 8,
   "id": "f368e7b5-4d60-45a9-8474-af2708ede486",
   "metadata": {},
   "outputs": [],
   "source": [
    "class Product(base):\n",
    "    __tablename__ = 'products'\n",
    "    product_id = Column(Integer, primary_key=True)\n",
    "    product_name = Column(String) \n",
    "    product_type = Column(String) "
   ]
  },
  {
   "cell_type": "code",
   "execution_count": 9,
   "id": "9cb79a0d-1d2c-4638-8286-e77db2ae3123",
   "metadata": {},
   "outputs": [],
   "source": [
    "products = session.query(Product)"
   ]
  },
  {
   "cell_type": "code",
   "execution_count": 10,
   "id": "40c4c41a-ad01-4ea7-901c-e826480a353c",
   "metadata": {},
   "outputs": [
    {
     "data": {
      "text/plain": [
       "<sqlalchemy.orm.query.Query at 0x19b9b802d40>"
      ]
     },
     "execution_count": 10,
     "metadata": {},
     "output_type": "execute_result"
    }
   ],
   "source": [
    "#data structure that represents the sqlalchemy query\n",
    "products"
   ]
  },
  {
   "cell_type": "code",
   "execution_count": 11,
   "id": "d5375d45-35a2-4a8c-87c8-d2f0ba20f04f",
   "metadata": {},
   "outputs": [
    {
     "name": "stdout",
     "output_type": "stream",
     "text": [
      "Reflector oven\n",
      "Convection microwave\n",
      "Pressure fryer\n",
      "Multicooker\n",
      "Food steamer\n",
      "Chapati maker\n",
      "Mess kit\n",
      "Rotisserie\n",
      "Sous-vide cooker\n",
      "Rocket mass heater\n",
      "Cheesemelter\n",
      "Hot plate\n",
      "Flattop grill\n",
      "Wet grinder\n",
      "Masonry oven\n",
      "Chocolatera\n",
      "Turkey fryer\n",
      "Bread machine\n",
      "Roasting jack\n",
      "Brasero (heater)\n",
      "Susceptor\n",
      "Slow cooker\n",
      "Butane torch\n",
      "Microwave oven\n",
      "Solar cooker\n",
      "Deep fryer\n",
      "Popcorn maker\n",
      "Russian oven\n",
      "Clome oven\n",
      "Convection oven\n",
      "Beehive oven\n",
      "Toaster and toaster ovens\n",
      "Field kitchen\n",
      "Corn roaster\n",
      "Self-cleaning oven\n",
      "Wood-fired oven\n",
      "Kitchener range\n",
      "Rice polisher\n",
      "Soy milk maker\n",
      "Crepe maker\n",
      "Oven\n",
      "Hot box (appliance)\n",
      "Combi steamer\n",
      "Rice cooker\n",
      "Fire pot\n",
      "Salamander broiler\n",
      "Vacuum fryer\n",
      "Fufu Machine\n",
      "Tabun oven\n",
      "Pancake machine\n",
      "Barbecue grill\n",
      "Panini sandwich grill\n",
      "Air fryer\n",
      "Chorkor oven\n",
      "Communal oven\n",
      "Pressure cooker\n",
      "Halogen oven\n",
      "Instant Pot\n",
      "Waffle iron\n",
      "Stove\n",
      "Earth oven\n",
      "Electric cooker\n",
      "Espresso machine\n",
      "Coffee pot\n"
     ]
    }
   ],
   "source": [
    "#it's iterable, so we can make a for loop to see the list of products\n",
    "for product in products:\n",
    "    print(product.product_name)"
   ]
  },
  {
   "cell_type": "code",
   "execution_count": 15,
   "id": "ca3ba339-f5cd-4034-8377-d0f6ac45adb1",
   "metadata": {},
   "outputs": [
    {
     "name": "stdout",
     "output_type": "stream",
     "text": [
      "Chapati maker\n",
      "Mess kit\n",
      "Cheesemelter\n",
      "Chocolatera\n",
      "Bread machine\n",
      "Susceptor\n",
      "Popcorn maker\n",
      "Field kitchen\n",
      "Rice polisher\n",
      "Soy milk maker\n",
      "Crepe maker\n",
      "Pancake machine\n",
      "Waffle iron\n"
     ]
    }
   ],
   "source": [
    "products = session.query(Product).filter(Product.product_type == 'specialty')\n",
    "for product in products:\n",
    "    print(product.product_name)\n"
   ]
  },
  {
   "cell_type": "markdown",
   "id": "4c09ba64-bebb-4f7b-9b03-3dc0447864e2",
   "metadata": {},
   "source": [
    "## When You Shouldn't Use Object Relational Mapping systems (ORM)"
   ]
  },
  {
   "cell_type": "markdown",
   "id": "43aa8bf5-4787-4a29-ae17-8f63878972d3",
   "metadata": {},
   "source": [
    "It's important to keep in mind when it isn't that useful to use ORMs. ORMs (Object Relational Mapping systems) are useful when you have simple data models and want to work in an object-oriented way in your code. \n",
    "\n",
    "However, there are limitations to using ORMs. They may not be a good fit if you have complex data models with many joins or if your data model is becoming more complex over time, as the generated ORM code can become complicated and may lead to performance issues. \n",
    "\n",
    "The main instances in which we don't want to use an ORM:\n",
    "\n",
    "- Complex data model with numerous joins\n",
    "- Handling requirements of a complex data model\n",
    "- Query tuning for performance optimization\n",
    "- Security considerations, such as regulatory compliance\n",
    "- Cross-database transactions or two-phase commit operations\n",
    "- Need for fine-grained transaction control with complex rollback logic\n",
    "- Data model complexity increasing over time\n",
    "- Non-compliance with specific industry regulations or organizational policies\n",
    "\n",
    "If you can't use an ORM, especially if there is a compliance issue, you can always use database drivers,  and create SQL statement directly, working with the dataabase that way."
   ]
  },
  {
   "cell_type": "code",
   "execution_count": 16,
   "id": "41b3897a-8681-465e-b075-aeb4b2e67991",
   "metadata": {},
   "outputs": [],
   "source": [
    "#Let's create a supplier class for this database\n",
    "#I'll build it off of the base class that I created previously using the declarative statement \n",
    "\n",
    "class Supplier(base):\n",
    "    __tablename__ = 'suppliers'\n",
    "    supplier_id = Column(Integer, primary_key=True)\n",
    "    supplier_name = Column(String)\n",
    "    supplier_region = Column(String)\n",
    "    supplier_level = Column(Integer)"
   ]
  }
 ],
 "metadata": {
  "kernelspec": {
   "display_name": "Python 3 (ipykernel)",
   "language": "python",
   "name": "python3"
  },
  "language_info": {
   "codemirror_mode": {
    "name": "ipython",
    "version": 3
   },
   "file_extension": ".py",
   "mimetype": "text/x-python",
   "name": "python",
   "nbconvert_exporter": "python",
   "pygments_lexer": "ipython3",
   "version": "3.10.10"
  }
 },
 "nbformat": 4,
 "nbformat_minor": 5
}
