{
 "cells": [
  {
   "cell_type": "markdown",
   "id": "17a6b3d8-aa8a-4367-8e85-44c5fc4caad2",
   "metadata": {},
   "source": [
    "# Scaling Apps in SQL"
   ]
  },
  {
   "cell_type": "markdown",
   "id": "3c0eb834-090c-43c4-b8ea-78ebb55b1629",
   "metadata": {},
   "source": [
    "### Partitioning\n",
    "\n",
    "Partitioning is a technique used in relational databases to improve application performance by managing the growth of data. There are two types of partitioning: horizontal and vertical.\n",
    "\n",
    "Horizontal and vertical partitioning are techniques used in relational databases to manage large amounts of data efficiently, which can have an impact on the performance and scalability of applications that use these databases. "
   ]
  },
  {
   "cell_type": "markdown",
   "id": "b4b0d6ef-ab11-45f7-abb7-03f6c6667d75",
   "metadata": {},
   "source": [
    "![Partitioning Example](Pictures/partitioned-external-tables.png)"
   ]
  },
  {
   "cell_type": "markdown",
   "id": "52726f27-3ca4-4db2-9442-0a618f0265b6",
   "metadata": {},
   "source": [
    "### Horizontal Partitioning\n",
    "\n",
    "Horizontal partitioning can be beneficial for scaling applications because it allows for more efficient querying of data, as well as more efficient adding and deleting of data. It also enables the use of local indexes at the partition level, which can further improve query performance. Horizontal partitioning is commonly used in data warehouses and for time-oriented or naturally partitioned data, such as sales data by time or by region.\n",
    "\n",
    "Horizontal partitioning, also known as sharding, involves breaking large tables into smaller partitions or chunks. This allows the application to treat each partition as if it were a separate table, while maintaining a simpler logic around the application code. \n"
   ]
  },
  {
   "cell_type": "markdown",
   "id": "00131578-e1ba-4939-93bb-4497c5301b92",
   "metadata": {},
   "source": [
    "![Partitioning Example](Pictures/partitioning1.png)"
   ]
  },
  {
   "cell_type": "markdown",
   "id": "06cba30a-6987-441a-87e5-bcd44594feef",
   "metadata": {},
   "source": [
    "### Vertical Partitioning\n",
    "\n",
    "Vertical partitioning, on the other hand, involves separating groups of columns into multiple tables. This can be useful for improving query performance when certain attributes or columns are frequently queried together. Vertical partitioning can increase the number of rows that can be stored in a single data block, resulting in more efficient I/O operations. It also allows for the use of global indexes for each partition, reducing the amount of I/O performed. \n",
    "\n",
    "Vertical partitioning is often used in conjunction with columnar data storage, where data is stored based on columns rather than rows, and can be useful in data warehouses or for grouping similarly used attributes.\n"
   ]
  },
  {
   "cell_type": "markdown",
   "id": "07cb5d2c-4861-4d76-a0d0-d8f521f3769f",
   "metadata": {},
   "source": [
    "![Image Title](Pictures/partitioning_2.png)"
   ]
  },
  {
   "cell_type": "markdown",
   "id": "1aad3d24-81c4-44c3-9a76-091f4208c3d3",
   "metadata": {},
   "source": [
    "In short:\n",
    "\n",
    "- Horizontal partitioning involves breaking large tables into smaller partitions, each containing a subset of rows.\n",
    "- Benefits of horizontal partitioning include more efficient querying, indexing at the partition level, and usage in data warehouses for time-oriented data or natural grouping based on subject area.\n",
    "- Vertical partitioning involves separating groups of columns into multiple tables.\n",
    "- Benefits of vertical partitioning include improved data retrieval performance, increased rows stored in a single data block, and reduced I/O operations.\n",
    "- Global indexes are used in vertical partitioning, reducing the amount of I/O operations required.\n",
    "- Vertical partitioning is used in data warehouses and can be based on similarly used attributes.\n",
    "\n",
    "Horizontal and vertical partitioning are techniques used in relational databases to optimize performance and scalability of applications by efficiently managing large amounts of data.  Both techniques can be beneficial for scaling applications that require efficient data storage and retrieval."
   ]
  },
  {
   "cell_type": "markdown",
   "id": "6f4ffe59-1492-4232-bda8-3f21fee9aca5",
   "metadata": {},
   "source": [
    "### Other than horizontal and vertical partitioning, there are other important types as well: "
   ]
  },
  {
   "cell_type": "markdown",
   "id": "903e3d1c-1bb7-45f9-a488-0f4c30b091af",
   "metadata": {},
   "source": [
    "![Image Title](Pictures/partitioning.gif)"
   ]
  },
  {
   "cell_type": "markdown",
   "id": "3b308f2f-f533-4aac-8cb3-d8bd615611a8",
   "metadata": {},
   "source": [
    "\n",
    "#Photo Credit: Oracle"
   ]
  },
  {
   "cell_type": "markdown",
   "id": "626f1e3e-80e7-41fe-8d62-61f7390cb3d9",
   "metadata": {},
   "source": [
    "1. Range partitioning: \n",
    "- In range partitioning, data is partitioned based on a specified range of values for a particular column. \n",
    "- For example, if you have a table with a date column and you choose to range partition it, you could partition the data based on date ranges, such as all data for January in one partition, all data for February in another partition, and so on.\n",
    "- This type of partitioning can be useful when you have data that can be logically divided into ranges and you want to efficiently manage data based on those ranges.\n",
    "\n",
    "2. List partitioning: \n",
    "- In list partitioning, data is partitioned based on a predefined list of values for a particular column. \n",
    "- For example, if you have a table with a column that represents different countries, you could partition the data based on a list of countries, such as all data for the United States in one partition, all data for Canada in another partition, and so on. \n",
    "- This type of partitioning can be useful when you have data that can be logically divided into discrete values and you want to efficiently manage data based on those values.\n",
    "\n",
    "3. Hash partitioning: \n",
    "- In hash partitioning, data is partitioned based on a hash function applied to a particular column. The hash function generates a hash value for each row, and the rows are then distributed across partitions based on the hash value. \n",
    "- This type of partitioning can evenly distribute data across partitions, which can be useful for load balancing and improving query performance. \n",
    "- However, it may not be suitable for partitioning based on specific ranges or values."
   ]
  },
  {
   "cell_type": "markdown",
   "id": "65e9b9df-9c3d-4764-ba51-0f990eccbb53",
   "metadata": {},
   "source": [
    "### Example"
   ]
  },
  {
   "cell_type": "markdown",
   "id": "b34b87e3-9e46-48cc-9e8e-db4c9eb40be0",
   "metadata": {},
   "source": [
    "We will create a sales history table that is partitioned by the month of sale. \n",
    "\n",
    "Here's the task: \n",
    "\n",
    "- The months will be represented as numbers from 1 to 12. \n",
    "- The table will have attributes such as product ID, product name, product type, total units sold, and month of sale. \n",
    "- To create a primary key for this table, we will use a combination of the month of sale and product ID."
   ]
  },
  {
   "cell_type": "markdown",
   "id": "236c6d6a-50b6-4178-b085-d80a0223a160",
   "metadata": {},
   "source": [
    "### Creating a Range-Partitioned Table"
   ]
  },
  {
   "cell_type": "raw",
   "id": "a1685826-aa99-4fef-bd16-17ec44f5b173",
   "metadata": {},
   "source": [
    "CREATE TABLE sales_history(\n",
    "product_id INT NOT NULL, product_name CHARACTER VARYING(50) NOT NULL, \n",
    "product_type CHARACTER VARYING(50) NOT NULL, \n",
    "total_units_sold INT NOT NULL, \n",
    "month_of_sale INT NOT NULL, \n",
    "PRIMARY KEY(month_of_sale, product_id) ) \n",
    "\n",
    "PARTITION BY RANGE(month_of_sale);"
   ]
  },
  {
   "cell_type": "markdown",
   "id": "8a7bf947-86cb-41b2-9e33-36d7a2373762",
   "metadata": {},
   "source": [
    "### Create partitioned tables for nodes in the database management system"
   ]
  },
  {
   "cell_type": "raw",
   "id": "9cfc2af2-d436-4b9e-a6fc-c3424145bb58",
   "metadata": {},
   "source": [
    "CREATE TABLE sales_history_month_1 PARTITION OF sales_history FOR VALUES FROM (1) TO (2);\n",
    "\n",
    "CREATE TABLE sales_history_month_2 PARTITION OF sales_history FOR VALUES FROM (2) TO (3);\n",
    "\n",
    "CREATE TABLE sales_history_month_3 PARTITION OF sales_history FOR VALUES FROM (3) TO (4);\n",
    "\n",
    "CREATE TABLE sales_history_month_4 PARTITION OF sales_history FOR VALUES FROM (4) TO (5);\n",
    "\n",
    "CREATE TABLE sales_history_month_5 PARTITION OF sales_history FOR VALUES FROM (5) TO (6);\n",
    "\n",
    "CREATE TABLE sales_history_month_6 PARTITION OF sales_history FOR VALUES FROM (6) TO (7);\n",
    "\n",
    "CREATE TABLE sales_history_month_7 PARTITION OF sales_history FOR VALUES FROM (7) TO (8);\n",
    "\n",
    "CREATE TABLE sales_history_month_8 PARTITION OF sales_history FOR VALUES FROM (8) TO (9);\n",
    "\n",
    "CREATE TABLE sales_history_month_9 PARTITION OF sales_history FOR VALUES FROM (9) TO (10);\n",
    "\n",
    "CREATE TABLE sales_history_month_10 PARTITION OF sales_history FOR VALUES FROM (10) TO (11);\n",
    "\n",
    "CREATE TABLE sales_history_month_11 PARTITION OF sales_history FOR VALUES FROM (11) TO (12);\n",
    "\n",
    "CREATE TABLE sales_history_month_12 PARTITION OF sales_history FOR VALUES FROM (12) TO (13);\n"
   ]
  }
 ],
 "metadata": {
  "kernelspec": {
   "display_name": "Python 3 (ipykernel)",
   "language": "python",
   "name": "python3"
  },
  "language_info": {
   "codemirror_mode": {
    "name": "ipython",
    "version": 3
   },
   "file_extension": ".py",
   "mimetype": "text/x-python",
   "name": "python",
   "nbconvert_exporter": "python",
   "pygments_lexer": "ipython3",
   "version": "3.10.10"
  }
 },
 "nbformat": 4,
 "nbformat_minor": 5
}
